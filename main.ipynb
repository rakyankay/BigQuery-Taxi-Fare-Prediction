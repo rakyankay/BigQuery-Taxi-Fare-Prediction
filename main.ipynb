{
 "cells": [
  {
   "cell_type": "markdown",
   "metadata": {},
   "source": [
    "# Taxi Fare Predict With Bigquery ML\n",
    "\n",
    "### (Data Analysis and Machine Learning)\n",
    "\n",
    "A client is interested in building an app to estimate how much a ride will cost for every users.\n",
    "\n",
    "As a Data Engineer, we can take several steps to meet client needs : import and analyze New York Taxi datasets (as our training datasets), clean the data, then build a basic model and perform fares predictions based on information available when a new trip starts."
   ]
  },
  {
   "cell_type": "markdown",
   "metadata": {},
   "source": [
    "### 1. Loading Packages\n",
    "\n",
    "Import library needed for analysis and visualization."
   ]
  },
  {
   "cell_type": "code",
   "execution_count": 1,
   "metadata": {},
   "outputs": [],
   "source": [
    "import seaborn as sns\n",
    "import matplotlib.pyplot as plt\n",
    "import os\n",
    "import warnings\n",
    "from geopy.distance import great_circle as GRC"
   ]
  },
  {
   "cell_type": "markdown",
   "metadata": {},
   "source": [
    "### 2. Create Connection To BigQuery\n",
    "\n",
    "Because the New York Taxi dataset is available on BigQuery, so we have to accessing BigQuery.\n",
    "\n",
    "Set the environment variables containing the location of JSON file to make connection to BigQuery."
   ]
  },
  {
   "cell_type": "code",
   "execution_count": 2,
   "metadata": {},
   "outputs": [],
   "source": [
    "warnings.filterwarnings('ignore')\n",
    "os.environ['GOOGLE_APPLICATION_CREDENTIALS'] = 'C:/Users/Rakyan Prajnagra/Documents/Data Engineer/BigQuery-Taxi-Fare-Prediction-Project/qwiklabs-gcp-02-34d67b271e82-349e9f9b2ca1.json'"
   ]
  },
  {
   "cell_type": "markdown",
   "metadata": {},
   "source": [
    "Execute the query below to use %%bigquery magic command. This command is used to run a SQL query and return the results as a Pandas Dataframe."
   ]
  },
  {
   "cell_type": "code",
   "execution_count": 3,
   "metadata": {},
   "outputs": [],
   "source": [
    "%load_ext google.cloud.bigquery"
   ]
  },
  {
   "cell_type": "markdown",
   "metadata": {},
   "source": [
    "### 3. Exploring Data\n",
    "\n",
    "The client provides taxi trip data (in csv format) which we will predict later. The client data stored in Cloud Storage. Loading this csv data to BigQuery table `client_prediction_data`."
   ]
  },
  {
   "cell_type": "code",
   "execution_count": 4,
   "metadata": {},
   "outputs": [
    {
     "data": {
      "application/vnd.jupyter.widget-view+json": {
       "model_id": "27c31e1c06bc4dc3831f56aac32f8daa",
       "version_major": 2,
       "version_minor": 0
      },
      "text/plain": [
       "Query is running:   0%|          |"
      ]
     },
     "metadata": {},
     "output_type": "display_data"
    },
    {
     "data": {
      "text/html": [
       "<div>\n",
       "<style scoped>\n",
       "    .dataframe tbody tr th:only-of-type {\n",
       "        vertical-align: middle;\n",
       "    }\n",
       "\n",
       "    .dataframe tbody tr th {\n",
       "        vertical-align: top;\n",
       "    }\n",
       "\n",
       "    .dataframe thead th {\n",
       "        text-align: right;\n",
       "    }\n",
       "</style>\n",
       "<table border=\"1\" class=\"dataframe\">\n",
       "  <thead>\n",
       "    <tr style=\"text-align: right;\">\n",
       "      <th></th>\n",
       "    </tr>\n",
       "  </thead>\n",
       "  <tbody>\n",
       "  </tbody>\n",
       "</table>\n",
       "</div>"
      ],
      "text/plain": [
       "Empty DataFrame\n",
       "Columns: []\n",
       "Index: []"
      ]
     },
     "execution_count": 4,
     "metadata": {},
     "output_type": "execute_result"
    }
   ],
   "source": [
    "%%bigquery\n",
    "LOAD DATA OVERWRITE taxirides.client_prediction_data\n",
    "FROM FILES (\n",
    "  format = 'CSV',\n",
    "  uris = ['gs://ml-fare-predictions/client_prediction_data.csv'])"
   ]
  },
  {
   "cell_type": "markdown",
   "metadata": {},
   "source": [
    "Now we can check the schema of the `client_prediction_data` table."
   ]
  },
  {
   "cell_type": "code",
   "execution_count": 5,
   "metadata": {},
   "outputs": [
    {
     "data": {
      "application/vnd.jupyter.widget-view+json": {
       "model_id": "97893af3649344e0b873431f1fa18f31",
       "version_major": 2,
       "version_minor": 0
      },
      "text/plain": [
       "Query is running:   0%|          |"
      ]
     },
     "metadata": {},
     "output_type": "display_data"
    },
    {
     "data": {
      "application/vnd.jupyter.widget-view+json": {
       "model_id": "f09329b0ad764ebca9cdb076ffd5e1a9",
       "version_major": 2,
       "version_minor": 0
      },
      "text/plain": [
       "Downloading:   0%|          |"
      ]
     },
     "metadata": {},
     "output_type": "display_data"
    },
    {
     "data": {
      "text/html": [
       "<div>\n",
       "<style scoped>\n",
       "    .dataframe tbody tr th:only-of-type {\n",
       "        vertical-align: middle;\n",
       "    }\n",
       "\n",
       "    .dataframe tbody tr th {\n",
       "        vertical-align: top;\n",
       "    }\n",
       "\n",
       "    .dataframe thead th {\n",
       "        text-align: right;\n",
       "    }\n",
       "</style>\n",
       "<table border=\"1\" class=\"dataframe\">\n",
       "  <thead>\n",
       "    <tr style=\"text-align: right;\">\n",
       "      <th></th>\n",
       "      <th>column_name</th>\n",
       "      <th>data_type</th>\n",
       "    </tr>\n",
       "  </thead>\n",
       "  <tbody>\n",
       "    <tr>\n",
       "      <th>0</th>\n",
       "      <td>pickup_datetime</td>\n",
       "      <td>TIMESTAMP</td>\n",
       "    </tr>\n",
       "    <tr>\n",
       "      <th>1</th>\n",
       "      <td>pickuplon</td>\n",
       "      <td>FLOAT64</td>\n",
       "    </tr>\n",
       "    <tr>\n",
       "      <th>2</th>\n",
       "      <td>pickuplat</td>\n",
       "      <td>FLOAT64</td>\n",
       "    </tr>\n",
       "    <tr>\n",
       "      <th>3</th>\n",
       "      <td>dropofflon</td>\n",
       "      <td>FLOAT64</td>\n",
       "    </tr>\n",
       "    <tr>\n",
       "      <th>4</th>\n",
       "      <td>dropofflat</td>\n",
       "      <td>FLOAT64</td>\n",
       "    </tr>\n",
       "    <tr>\n",
       "      <th>5</th>\n",
       "      <td>passengers</td>\n",
       "      <td>INT64</td>\n",
       "    </tr>\n",
       "  </tbody>\n",
       "</table>\n",
       "</div>"
      ],
      "text/plain": [
       "       column_name  data_type\n",
       "0  pickup_datetime  TIMESTAMP\n",
       "1        pickuplon    FLOAT64\n",
       "2        pickuplat    FLOAT64\n",
       "3       dropofflon    FLOAT64\n",
       "4       dropofflat    FLOAT64\n",
       "5       passengers      INT64"
      ]
     },
     "execution_count": 5,
     "metadata": {},
     "output_type": "execute_result"
    }
   ],
   "source": [
    "%%bigquery\n",
    "SELECT column_name, data_type\n",
    "FROM `taxirides.INFORMATION_SCHEMA.COLUMNS`\n",
    "WHERE table_name = 'client_prediction_data'\n",
    "ORDER BY ordinal_position"
   ]
  },
  {
   "cell_type": "markdown",
   "metadata": {},
   "source": [
    "`client_prediction_data` table tell us about when the trip start, where are the coordinates of the pickup and dropoff, and how many passenger on the trip. Focus on this 6 columns as our guide to create a model.\n",
    "\n",
    "But before creating a model, we have to prepare our training data first. We use New York Taxi dataset as a training data. Let's have a look at New York Taxi dataset."
   ]
  },
  {
   "cell_type": "code",
   "execution_count": 4,
   "metadata": {},
   "outputs": [
    {
     "data": {
      "application/vnd.jupyter.widget-view+json": {
       "model_id": "e7778d823d65478a8bc05578f28c24e9",
       "version_major": 2,
       "version_minor": 0
      },
      "text/plain": [
       "Query is running:   0%|          |"
      ]
     },
     "metadata": {},
     "output_type": "display_data"
    },
    {
     "data": {
      "application/vnd.jupyter.widget-view+json": {
       "model_id": "e1dfb86638ca4acc972f48f04087e42b",
       "version_major": 2,
       "version_minor": 0
      },
      "text/plain": [
       "Downloading:   0%|          |"
      ]
     },
     "metadata": {},
     "output_type": "display_data"
    },
    {
     "data": {
      "text/html": [
       "<div>\n",
       "<style scoped>\n",
       "    .dataframe tbody tr th:only-of-type {\n",
       "        vertical-align: middle;\n",
       "    }\n",
       "\n",
       "    .dataframe tbody tr th {\n",
       "        vertical-align: top;\n",
       "    }\n",
       "\n",
       "    .dataframe thead th {\n",
       "        text-align: right;\n",
       "    }\n",
       "</style>\n",
       "<table border=\"1\" class=\"dataframe\">\n",
       "  <thead>\n",
       "    <tr style=\"text-align: right;\">\n",
       "      <th></th>\n",
       "      <th>column_name</th>\n",
       "      <th>data_type</th>\n",
       "    </tr>\n",
       "  </thead>\n",
       "  <tbody>\n",
       "    <tr>\n",
       "      <th>0</th>\n",
       "      <td>vendor_id</td>\n",
       "      <td>STRING</td>\n",
       "    </tr>\n",
       "    <tr>\n",
       "      <th>1</th>\n",
       "      <td>pickup_datetime</td>\n",
       "      <td>TIMESTAMP</td>\n",
       "    </tr>\n",
       "    <tr>\n",
       "      <th>2</th>\n",
       "      <td>dropoff_datetime</td>\n",
       "      <td>TIMESTAMP</td>\n",
       "    </tr>\n",
       "    <tr>\n",
       "      <th>3</th>\n",
       "      <td>pickup_longitude</td>\n",
       "      <td>FLOAT64</td>\n",
       "    </tr>\n",
       "    <tr>\n",
       "      <th>4</th>\n",
       "      <td>pickup_latitude</td>\n",
       "      <td>FLOAT64</td>\n",
       "    </tr>\n",
       "    <tr>\n",
       "      <th>5</th>\n",
       "      <td>dropoff_longitude</td>\n",
       "      <td>FLOAT64</td>\n",
       "    </tr>\n",
       "    <tr>\n",
       "      <th>6</th>\n",
       "      <td>dropoff_latitude</td>\n",
       "      <td>FLOAT64</td>\n",
       "    </tr>\n",
       "    <tr>\n",
       "      <th>7</th>\n",
       "      <td>rate_code</td>\n",
       "      <td>STRING</td>\n",
       "    </tr>\n",
       "    <tr>\n",
       "      <th>8</th>\n",
       "      <td>passenger_count</td>\n",
       "      <td>INT64</td>\n",
       "    </tr>\n",
       "    <tr>\n",
       "      <th>9</th>\n",
       "      <td>trip_distance</td>\n",
       "      <td>FLOAT64</td>\n",
       "    </tr>\n",
       "    <tr>\n",
       "      <th>10</th>\n",
       "      <td>payment_type</td>\n",
       "      <td>STRING</td>\n",
       "    </tr>\n",
       "    <tr>\n",
       "      <th>11</th>\n",
       "      <td>fare_amount</td>\n",
       "      <td>FLOAT64</td>\n",
       "    </tr>\n",
       "    <tr>\n",
       "      <th>12</th>\n",
       "      <td>extra</td>\n",
       "      <td>FLOAT64</td>\n",
       "    </tr>\n",
       "    <tr>\n",
       "      <th>13</th>\n",
       "      <td>mta_tax</td>\n",
       "      <td>FLOAT64</td>\n",
       "    </tr>\n",
       "    <tr>\n",
       "      <th>14</th>\n",
       "      <td>imp_surcharge</td>\n",
       "      <td>FLOAT64</td>\n",
       "    </tr>\n",
       "    <tr>\n",
       "      <th>15</th>\n",
       "      <td>tip_amount</td>\n",
       "      <td>FLOAT64</td>\n",
       "    </tr>\n",
       "    <tr>\n",
       "      <th>16</th>\n",
       "      <td>tolls_amount</td>\n",
       "      <td>FLOAT64</td>\n",
       "    </tr>\n",
       "    <tr>\n",
       "      <th>17</th>\n",
       "      <td>total_amount</td>\n",
       "      <td>FLOAT64</td>\n",
       "    </tr>\n",
       "    <tr>\n",
       "      <th>18</th>\n",
       "      <td>store_and_fwd_flag</td>\n",
       "      <td>STRING</td>\n",
       "    </tr>\n",
       "  </tbody>\n",
       "</table>\n",
       "</div>"
      ],
      "text/plain": [
       "           column_name  data_type\n",
       "0            vendor_id     STRING\n",
       "1      pickup_datetime  TIMESTAMP\n",
       "2     dropoff_datetime  TIMESTAMP\n",
       "3     pickup_longitude    FLOAT64\n",
       "4      pickup_latitude    FLOAT64\n",
       "5    dropoff_longitude    FLOAT64\n",
       "6     dropoff_latitude    FLOAT64\n",
       "7            rate_code     STRING\n",
       "8      passenger_count      INT64\n",
       "9        trip_distance    FLOAT64\n",
       "10        payment_type     STRING\n",
       "11         fare_amount    FLOAT64\n",
       "12               extra    FLOAT64\n",
       "13             mta_tax    FLOAT64\n",
       "14       imp_surcharge    FLOAT64\n",
       "15          tip_amount    FLOAT64\n",
       "16        tolls_amount    FLOAT64\n",
       "17        total_amount    FLOAT64\n",
       "18  store_and_fwd_flag     STRING"
      ]
     },
     "execution_count": 4,
     "metadata": {},
     "output_type": "execute_result"
    }
   ],
   "source": [
    "%%bigquery\n",
    "SELECT column_name, data_type\n",
    "FROM `taxirides.INFORMATION_SCHEMA.COLUMNS`\n",
    "WHERE table_name = 'historical_taxi_rides_raw'\n",
    "ORDER BY ordinal_position"
   ]
  },
  {
   "cell_type": "markdown",
   "metadata": {},
   "source": [
    "Here is the description of the variables in datasets.\n",
    "1. vendor_id -> A code indicating the taxi provider\n",
    "\n",
    "2. pickup_datetime -> Date and time when the meter was engaged\n",
    "\n",
    "3. dropoff_datetime -> Date and time when the meter was disengaged\n",
    "\n",
    "4. pickup_longitude -> The longitude where the meter was engaged\n",
    "\n",
    "5. pickup_latitude -> The latitude where the meter was engaged\n",
    "\n",
    "6. dropoff_longitude -> The longitude where the meter was disengaged \n",
    "\n",
    "7. dropoff_longitude -> The latitude where the meter was disengaged\n",
    "\n",
    "8. rate_code -> The final rate code in effect at the end of the trip\n",
    "\n",
    "9. passenger_count -> The number of passengers in the vehicle\n",
    "\n",
    "10. trip_distance -> The elapsed trip distance in miles reported by the taximeter\n",
    "\n",
    "11. payment_type -> A code signifying how the passenger paid for the trip\\\n",
    "    (1=Credit Card; 2=Cash; 3=No Charge; 4=Dispute; 5=Unknown; 6=Voided Trip)\n",
    "\n",
    "12. fare_amount -> The time and distance fare calculated by the meter \n",
    "\n",
    "13. extra -> Miscellaneous extras and surcharges\n",
    "\n",
    "14. mta_tax -> $0.50 MTA tax that is automatically triggered based on the meteredrate in use\n",
    "\n",
    "15. imp_surcharge -> $0.30 improvement surcharge assessed trips at the flag drop\n",
    "\n",
    "16. tip_amount -> Tip amount (populated for credit card tips only)\n",
    "\n",
    "17. tolls_amount -> Total amount of all tolls paid in trip\n",
    "\n",
    "18. total_amount -> The total amount charged to passengers (Do not include cash tips)\n",
    "\n",
    "19. store_and_fwd_flag -> Indicates whether the trip record was held in vehicle memory before sending to the vendor\\\n",
    "    (Y=Store and forward trip; N=Not a store and forward trip)\n",
    "\n",
    "Now, import the dataset into pandas dataframe so that data can be analyzed."
   ]
  },
  {
   "cell_type": "code",
   "execution_count": 5,
   "metadata": {},
   "outputs": [
    {
     "data": {
      "application/vnd.jupyter.widget-view+json": {
       "model_id": "acd712da32364783a79094d04862e152",
       "version_major": 2,
       "version_minor": 0
      },
      "text/plain": [
       "Query is running:   0%|          |"
      ]
     },
     "metadata": {},
     "output_type": "display_data"
    },
    {
     "data": {
      "application/vnd.jupyter.widget-view+json": {
       "model_id": "43677fb7c32f44f89f0a26f4e6bd788a",
       "version_major": 2,
       "version_minor": 0
      },
      "text/plain": [
       "Downloading:   0%|          |"
      ]
     },
     "metadata": {},
     "output_type": "display_data"
    }
   ],
   "source": [
    "%%bigquery raw \n",
    "SELECT * FROM `taxirides.historical_taxi_rides_raw`\n",
    "LIMIT 10000000"
   ]
  },
  {
   "cell_type": "markdown",
   "metadata": {},
   "source": [
    "Exploring data can be done using statistical and visualization techniques. Check for the statistical details of the data."
   ]
  },
  {
   "cell_type": "code",
   "execution_count": 6,
   "metadata": {},
   "outputs": [
    {
     "data": {
      "text/html": [
       "<div>\n",
       "<style scoped>\n",
       "    .dataframe tbody tr th:only-of-type {\n",
       "        vertical-align: middle;\n",
       "    }\n",
       "\n",
       "    .dataframe tbody tr th {\n",
       "        vertical-align: top;\n",
       "    }\n",
       "\n",
       "    .dataframe thead th {\n",
       "        text-align: right;\n",
       "    }\n",
       "</style>\n",
       "<table border=\"1\" class=\"dataframe\">\n",
       "  <thead>\n",
       "    <tr style=\"text-align: right;\">\n",
       "      <th></th>\n",
       "      <th>pickup_longitude</th>\n",
       "      <th>pickup_latitude</th>\n",
       "      <th>dropoff_longitude</th>\n",
       "      <th>dropoff_latitude</th>\n",
       "      <th>passenger_count</th>\n",
       "      <th>trip_distance</th>\n",
       "      <th>fare_amount</th>\n",
       "      <th>extra</th>\n",
       "      <th>mta_tax</th>\n",
       "      <th>imp_surcharge</th>\n",
       "      <th>tip_amount</th>\n",
       "      <th>tolls_amount</th>\n",
       "      <th>total_amount</th>\n",
       "    </tr>\n",
       "  </thead>\n",
       "  <tbody>\n",
       "    <tr>\n",
       "      <th>count</th>\n",
       "      <td>1.000000e+07</td>\n",
       "      <td>1.000000e+07</td>\n",
       "      <td>9.999943e+06</td>\n",
       "      <td>9.999943e+06</td>\n",
       "      <td>10000000.0</td>\n",
       "      <td>1.000000e+07</td>\n",
       "      <td>1.000000e+07</td>\n",
       "      <td>1.000000e+07</td>\n",
       "      <td>9.115403e+06</td>\n",
       "      <td>0.0</td>\n",
       "      <td>1.000000e+07</td>\n",
       "      <td>1.000000e+07</td>\n",
       "      <td>1.000000e+07</td>\n",
       "    </tr>\n",
       "    <tr>\n",
       "      <th>mean</th>\n",
       "      <td>-7.247927e+01</td>\n",
       "      <td>3.989293e+01</td>\n",
       "      <td>-7.246564e+01</td>\n",
       "      <td>3.988230e+01</td>\n",
       "      <td>1.685491</td>\n",
       "      <td>3.226885e+00</td>\n",
       "      <td>9.175739e+00</td>\n",
       "      <td>3.078235e-01</td>\n",
       "      <td>4.975501e-01</td>\n",
       "      <td>NaN</td>\n",
       "      <td>9.123680e-01</td>\n",
       "      <td>1.137485e-01</td>\n",
       "      <td>1.096473e+01</td>\n",
       "    </tr>\n",
       "    <tr>\n",
       "      <th>std</th>\n",
       "      <td>1.232864e+01</td>\n",
       "      <td>8.894253e+00</td>\n",
       "      <td>1.203039e+01</td>\n",
       "      <td>8.958733e+00</td>\n",
       "      <td>1.340927</td>\n",
       "      <td>2.722611e+03</td>\n",
       "      <td>7.158749e+00</td>\n",
       "      <td>3.622728e-01</td>\n",
       "      <td>4.122837e-02</td>\n",
       "      <td>NaN</td>\n",
       "      <td>1.629694e+00</td>\n",
       "      <td>8.114584e-01</td>\n",
       "      <td>8.528792e+00</td>\n",
       "    </tr>\n",
       "    <tr>\n",
       "      <th>min</th>\n",
       "      <td>-3.395886e+03</td>\n",
       "      <td>-3.475475e+03</td>\n",
       "      <td>-3.049155e+03</td>\n",
       "      <td>-3.478280e+03</td>\n",
       "      <td>0.0</td>\n",
       "      <td>0.000000e+00</td>\n",
       "      <td>-7.500000e+01</td>\n",
       "      <td>-1.000000e+00</td>\n",
       "      <td>-1.000000e+00</td>\n",
       "      <td>NaN</td>\n",
       "      <td>-4.150000e+01</td>\n",
       "      <td>-8.000000e+00</td>\n",
       "      <td>-7.500000e+01</td>\n",
       "    </tr>\n",
       "    <tr>\n",
       "      <th>25%</th>\n",
       "      <td>-7.399192e+01</td>\n",
       "      <td>4.073663e+01</td>\n",
       "      <td>-7.399145e+01</td>\n",
       "      <td>4.073647e+01</td>\n",
       "      <td>1.0</td>\n",
       "      <td>9.000000e-01</td>\n",
       "      <td>5.500000e+00</td>\n",
       "      <td>0.000000e+00</td>\n",
       "      <td>5.000000e-01</td>\n",
       "      <td>NaN</td>\n",
       "      <td>0.000000e+00</td>\n",
       "      <td>0.000000e+00</td>\n",
       "      <td>7.000000e+00</td>\n",
       "    </tr>\n",
       "    <tr>\n",
       "      <th>50%</th>\n",
       "      <td>-7.398190e+01</td>\n",
       "      <td>4.075296e+01</td>\n",
       "      <td>-7.398074e+01</td>\n",
       "      <td>4.075352e+01</td>\n",
       "      <td>1.0</td>\n",
       "      <td>1.420000e+00</td>\n",
       "      <td>7.500000e+00</td>\n",
       "      <td>0.000000e+00</td>\n",
       "      <td>5.000000e-01</td>\n",
       "      <td>NaN</td>\n",
       "      <td>0.000000e+00</td>\n",
       "      <td>0.000000e+00</td>\n",
       "      <td>9.000000e+00</td>\n",
       "    </tr>\n",
       "    <tr>\n",
       "      <th>75%</th>\n",
       "      <td>-7.396815e+01</td>\n",
       "      <td>4.076677e+01</td>\n",
       "      <td>-7.396649e+01</td>\n",
       "      <td>4.076767e+01</td>\n",
       "      <td>2.0</td>\n",
       "      <td>2.200000e+00</td>\n",
       "      <td>1.000000e+01</td>\n",
       "      <td>5.000000e-01</td>\n",
       "      <td>5.000000e-01</td>\n",
       "      <td>NaN</td>\n",
       "      <td>1.500000e+00</td>\n",
       "      <td>0.000000e+00</td>\n",
       "      <td>1.190000e+01</td>\n",
       "    </tr>\n",
       "    <tr>\n",
       "      <th>max</th>\n",
       "      <td>3.456211e+03</td>\n",
       "      <td>3.338870e+03</td>\n",
       "      <td>3.454826e+03</td>\n",
       "      <td>3.577127e+03</td>\n",
       "      <td>208.0</td>\n",
       "      <td>8.000005e+06</td>\n",
       "      <td>5.000000e+02</td>\n",
       "      <td>1.400000e+01</td>\n",
       "      <td>3.172000e+01</td>\n",
       "      <td>NaN</td>\n",
       "      <td>5.586200e+02</td>\n",
       "      <td>5.151000e+02</td>\n",
       "      <td>5.631200e+02</td>\n",
       "    </tr>\n",
       "  </tbody>\n",
       "</table>\n",
       "</div>"
      ],
      "text/plain": [
       "       pickup_longitude  pickup_latitude  dropoff_longitude  dropoff_latitude  \\\n",
       "count      1.000000e+07     1.000000e+07       9.999943e+06      9.999943e+06   \n",
       "mean      -7.247927e+01     3.989293e+01      -7.246564e+01      3.988230e+01   \n",
       "std        1.232864e+01     8.894253e+00       1.203039e+01      8.958733e+00   \n",
       "min       -3.395886e+03    -3.475475e+03      -3.049155e+03     -3.478280e+03   \n",
       "25%       -7.399192e+01     4.073663e+01      -7.399145e+01      4.073647e+01   \n",
       "50%       -7.398190e+01     4.075296e+01      -7.398074e+01      4.075352e+01   \n",
       "75%       -7.396815e+01     4.076677e+01      -7.396649e+01      4.076767e+01   \n",
       "max        3.456211e+03     3.338870e+03       3.454826e+03      3.577127e+03   \n",
       "\n",
       "       passenger_count  trip_distance   fare_amount         extra  \\\n",
       "count       10000000.0   1.000000e+07  1.000000e+07  1.000000e+07   \n",
       "mean          1.685491   3.226885e+00  9.175739e+00  3.078235e-01   \n",
       "std           1.340927   2.722611e+03  7.158749e+00  3.622728e-01   \n",
       "min                0.0   0.000000e+00 -7.500000e+01 -1.000000e+00   \n",
       "25%                1.0   9.000000e-01  5.500000e+00  0.000000e+00   \n",
       "50%                1.0   1.420000e+00  7.500000e+00  0.000000e+00   \n",
       "75%                2.0   2.200000e+00  1.000000e+01  5.000000e-01   \n",
       "max              208.0   8.000005e+06  5.000000e+02  1.400000e+01   \n",
       "\n",
       "            mta_tax  imp_surcharge    tip_amount  tolls_amount  total_amount  \n",
       "count  9.115403e+06            0.0  1.000000e+07  1.000000e+07  1.000000e+07  \n",
       "mean   4.975501e-01            NaN  9.123680e-01  1.137485e-01  1.096473e+01  \n",
       "std    4.122837e-02            NaN  1.629694e+00  8.114584e-01  8.528792e+00  \n",
       "min   -1.000000e+00            NaN -4.150000e+01 -8.000000e+00 -7.500000e+01  \n",
       "25%    5.000000e-01            NaN  0.000000e+00  0.000000e+00  7.000000e+00  \n",
       "50%    5.000000e-01            NaN  0.000000e+00  0.000000e+00  9.000000e+00  \n",
       "75%    5.000000e-01            NaN  1.500000e+00  0.000000e+00  1.190000e+01  \n",
       "max    3.172000e+01            NaN  5.586200e+02  5.151000e+02  5.631200e+02  "
      ]
     },
     "execution_count": 6,
     "metadata": {},
     "output_type": "execute_result"
    }
   ],
   "source": [
    "raw.describe()"
   ]
  },
  {
   "cell_type": "markdown",
   "metadata": {},
   "source": [
    "A few key observations on the New York Taxi dataset:\n",
    "\n",
    "- There are missing data in numerical column\n",
    "- The minimum number of passengers is 0 and maximum number of passenger is 208\n",
    "- The minimum distance of the trip is 0 (no moving) and maximum distance is 5 Million Miles\n",
    "- Some of the total amount of the trips are under $0\n",
    "\n",
    "From the results of the observations, we identified anomalies that can affect the model that will be build later. Let us go deeper to find inconsistent or incomplete data."
   ]
  },
  {
   "cell_type": "markdown",
   "metadata": {},
   "source": [
    "### 4. Univariate Analysis\n",
    "\n",
    "The univariate analysis study the patterns of the variables individually. We want to look at the distribution of various variables in New York Taxi dataset. "
   ]
  },
  {
   "cell_type": "markdown",
   "metadata": {},
   "source": [
    "#### Trip Distance\n",
    "\n",
    "Start by analyzing the trip distance. "
   ]
  },
  {
   "cell_type": "code",
   "execution_count": 7,
   "metadata": {},
   "outputs": [
    {
     "data": {
      "text/plain": [
       "Text(0, 0.5, 'Frequency')"
      ]
     },
     "execution_count": 7,
     "metadata": {},
     "output_type": "execute_result"
    },
    {
     "data": {
      "image/png": "[encoded data removed]",
      "text/plain": [
       "<Figure size 800x400 with 1 Axes>"
      ]
     },
     "metadata": {},
     "output_type": "display_data"
    }
   ],
   "source": [
    "plt.figure(figsize = (8, 4))\n",
    "sns.histplot(raw['trip_distance'], kde = False, bins = 100)\n",
    "plt.title('The Distribution of Trip Distance')\n",
    "plt.xlabel('trip_distance')\n",
    "plt.ylabel('Frequency')"
   ]
  },
  {
   "cell_type": "markdown",
   "metadata": {},
   "source": [
    "The histogram shows extremely right skewed data.\n",
    "\n",
    "Let see to the boxplot of the trip distance."
   ]
  },
  {
   "cell_type": "code",
   "execution_count": 8,
   "metadata": {},
   "outputs": [
    {
     "data": {
      "text/plain": [
       "[Text(0.5, 1.0, 'A Boxplot Depiciting Trip Distance Distribution')]"
      ]
     },
     "execution_count": 8,
     "metadata": {},
     "output_type": "execute_result"
    },
    {
     "data": {
      "image/png": "[encoded data removed]",
      "text/plain": [
       "<Figure size 640x480 with 1 Axes>"
      ]
     },
     "metadata": {},
     "output_type": "display_data"
    }
   ],
   "source": [
    "sns.boxplot(raw['trip_distance'], orient = 'horizotal').set(title = 'A Boxplot Depiciting Trip Distance Distribution')"
   ]
  },
  {
   "cell_type": "markdown",
   "metadata": {},
   "source": [
    "Clearly we see an outlier. There are trip with a distance of around millions of miles (look unreal) while the other are somewhere near zero miles."
   ]
  },
  {
   "cell_type": "markdown",
   "metadata": {},
   "source": [
    "#### Fare Amount"
   ]
  },
  {
   "cell_type": "code",
   "execution_count": 9,
   "metadata": {},
   "outputs": [
    {
     "data": {
      "text/plain": [
       "Text(0, 0.5, 'Frequency')"
      ]
     },
     "execution_count": 9,
     "metadata": {},
     "output_type": "execute_result"
    },
    {
     "data": {
      "image/png": "[encoded data removed]",
      "text/plain": [
       "<Figure size 800x400 with 1 Axes>"
      ]
     },
     "metadata": {},
     "output_type": "display_data"
    }
   ],
   "source": [
    "plt.figure(figsize = (8, 4))\n",
    "sns.histplot(raw['fare_amount'], kde = False, bins = 100)\n",
    "plt.title('The Distribution of Fare Amount')\n",
    "plt.xlabel('fare_amount')\n",
    "plt.ylabel('Frequency')"
   ]
  },
  {
   "cell_type": "markdown",
   "metadata": {},
   "source": [
    "The most common fare amount are small (under $25), indicating they have a short trips within New York."
   ]
  },
  {
   "cell_type": "code",
   "execution_count": 10,
   "metadata": {},
   "outputs": [
    {
     "data": {
      "text/plain": [
       "[Text(0.5, 1.0, 'A Boxplot Depiciting Fare Amount Distribution')]"
      ]
     },
     "execution_count": 10,
     "metadata": {},
     "output_type": "execute_result"
    },
    {
     "data": {
      "image/png": "[encoded data removed]",
      "text/plain": [
       "<Figure size 640x480 with 1 Axes>"
      ]
     },
     "metadata": {},
     "output_type": "display_data"
    }
   ],
   "source": [
    "sns.boxplot(raw['fare_amount'], orient = 'horizotal').set(title = 'A Boxplot Depiciting Fare Amount Distribution')"
   ]
  },
  {
   "cell_type": "markdown",
   "metadata": {},
   "source": [
    "From the boxplot we can see the minimum fare amount is negative, but the initial taxi fare charge is $2,5. So we are going to remove fare amount smaller than $2.5."
   ]
  },
  {
   "cell_type": "markdown",
   "metadata": {},
   "source": [
    "#### Passenger Count"
   ]
  },
  {
   "cell_type": "code",
   "execution_count": 11,
   "metadata": {},
   "outputs": [
    {
     "data": {
      "text/plain": [
       "Text(0, 0.5, 'Frequency')"
      ]
     },
     "execution_count": 11,
     "metadata": {},
     "output_type": "execute_result"
    },
    {
     "data": {
      "image/png": "[encoded data removed]",
      "text/plain": [
       "<Figure size 800x400 with 1 Axes>"
      ]
     },
     "metadata": {},
     "output_type": "display_data"
    }
   ],
   "source": [
    "raw['passenger_count_format'] = raw['passenger_count'].astype(int)\n",
    "plt.figure(figsize = (8, 4))\n",
    "sns.histplot(raw['passenger_count_format'], kde = False, bins = 100)\n",
    "plt.title('The Distribution of Passenger Count')\n",
    "plt.xlabel('passenger_count_format')\n",
    "plt.ylabel('Frequency')"
   ]
  },
  {
   "cell_type": "markdown",
   "metadata": {},
   "source": [
    "It often happens that small groups of people travel togther."
   ]
  },
  {
   "cell_type": "code",
   "execution_count": 12,
   "metadata": {},
   "outputs": [
    {
     "name": "stdout",
     "output_type": "stream",
     "text": [
      "passenger_count\n",
      "1      6990712\n",
      "2      1418698\n",
      "5       666786\n",
      "3       429431\n",
      "6       262046\n",
      "4       207529\n",
      "0        24780\n",
      "208         10\n",
      "7            4\n",
      "9            3\n",
      "49           1\n",
      "Name: count, dtype: Int64\n"
     ]
    }
   ],
   "source": [
    "print(raw['passenger_count'].value_counts())"
   ]
  },
  {
   "cell_type": "markdown",
   "metadata": {},
   "source": [
    "- There are some trips with 0 passenger\n",
    "- Th number of trips with 7 and 9 passengers has a low frequency\n",
    "- There can't be over than hundreds people in the taxi\n",
    "\n",
    "From the observation above, we can remove the the row where the number of passengers is less than 1 and more than 6."
   ]
  },
  {
   "cell_type": "markdown",
   "metadata": {},
   "source": [
    "#### Store and Forward Flag"
   ]
  },
  {
   "cell_type": "code",
   "execution_count": 13,
   "metadata": {},
   "outputs": [
    {
     "data": {
      "text/plain": [
       "store_and_fwd_flag\n",
       "N    4484681\n",
       "0     284728\n",
       "Y      94798\n",
       "1       4878\n",
       ",         38\n",
       "           3\n",
       "Name: count, dtype: int64"
      ]
     },
     "execution_count": 13,
     "metadata": {},
     "output_type": "execute_result"
    }
   ],
   "source": [
    "raw['store_and_fwd_flag'].value_counts()"
   ]
  },
  {
   "cell_type": "markdown",
   "metadata": {},
   "source": [
    "Almost 2% of trips that were stored before forwading.\n",
    "\n",
    "From the dataset description earlier, the store and forward flag is only indicated by Y and N. So for the other value must be removed."
   ]
  },
  {
   "cell_type": "markdown",
   "metadata": {},
   "source": [
    "#### Latitude\n",
    "\n",
    "Check the distribution of the pickup and dropoff latitude."
   ]
  },
  {
   "cell_type": "code",
   "execution_count": 14,
   "metadata": {},
   "outputs": [
    {
     "data": {
      "text/plain": [
       "<bound method Figure.tight_layout of <Figure size 1200x500 with 2 Axes>>"
      ]
     },
     "execution_count": 14,
     "metadata": {},
     "output_type": "execute_result"
    },
    {
     "data": {
      "image/png": "[encoded data removed]",
      "text/plain": [
       "<Figure size 1200x500 with 2 Axes>"
      ]
     },
     "metadata": {},
     "output_type": "display_data"
    }
   ],
   "source": [
    "fig, ax = plt.subplots(1, 2, figsize=(12, 5))\n",
    "fig.suptitle('Latitude Distribution')\n",
    "sns.histplot(x = raw['pickup_latitude'], ax = ax[0], bins = 20, kde = True).set(title = 'Pickup Latitude')\n",
    "sns.histplot(x = raw['dropoff_latitude'], ax = ax[1], bins = 20, kde = True).set(title = 'Dropoff Latitude')\n",
    "fig.tight_layout"
   ]
  },
  {
   "cell_type": "markdown",
   "metadata": {},
   "source": [
    "The pickup latitude and the dropoff latitude has almost the same kind of distribution. Because of the New York latitude is from 40° 29' 40\" N to 45° 0' 42\" N, anything outside that value is not necessary."
   ]
  },
  {
   "cell_type": "markdown",
   "metadata": {},
   "source": [
    "#### Longitude"
   ]
  },
  {
   "cell_type": "markdown",
   "metadata": {},
   "source": [
    "Check the distribution of the pickup and dropoff longitude."
   ]
  },
  {
   "cell_type": "code",
   "execution_count": 15,
   "metadata": {},
   "outputs": [
    {
     "data": {
      "text/plain": [
       "<bound method Figure.tight_layout of <Figure size 1200x500 with 2 Axes>>"
      ]
     },
     "execution_count": 15,
     "metadata": {},
     "output_type": "execute_result"
    },
    {
     "data": {
      "image/png": "[encoded data removed]",
      "text/plain": [
       "<Figure size 1200x500 with 2 Axes>"
      ]
     },
     "metadata": {},
     "output_type": "display_data"
    }
   ],
   "source": [
    "fig, ax = plt.subplots(1, 2, figsize=(12, 5))\n",
    "fig.suptitle('Longitude Distribution')\n",
    "sns.histplot(x = raw['pickup_longitude'], ax = ax[0], bins = 20, kde = True).set(title = 'Pickup Longitude')\n",
    "sns.histplot(x = raw['dropoff_longitude'], ax = ax[1], bins = 20, kde = True).set(title = 'Dropoff Longitude')\n",
    "fig.tight_layout"
   ]
  },
  {
   "cell_type": "markdown",
   "metadata": {},
   "source": [
    "Pickup and dropoff longitude has a slightly different distribution. Because of the New York longitude is from 71° 47' 25\" W to 79° 45' 54\" W, anything outside that value is not necessary."
   ]
  },
  {
   "cell_type": "markdown",
   "metadata": {},
   "source": [
    "### 4. Cleaning Training Data\n",
    "\n",
    "Cleaning data is a process to fixing our training data according to the analysis that we had before. We will clean the New York Taxi dataset and make a copy to the new table `taxi_training_data` using SQL query : \n",
    "- Filter the trip_distance value to be more than 0 miles\n",
    "- Remove rows where fare_amount is very small (less than $2.5)\n",
    "- Ensure that the latitudes and longitudes are between the New York coordinates\n",
    "- Make a passenger_count between 1 and 6\n",
    "- Ensure the store and forward flag is only contains Y and N values\n",
    "- Create a new column `fare_amount_total` as a result of the addition of `fare_amount` and `tolls_amount` (since the `total_amount` is includes tips amount)\n",
    "- Because the source dataset is > 10 million rows, sample the dataset to less than 1 million rows"
   ]
  },
  {
   "cell_type": "code",
   "execution_count": 16,
   "metadata": {},
   "outputs": [
    {
     "data": {
      "application/vnd.jupyter.widget-view+json": {
       "model_id": "5ae5c341717f464380c40b6727f75df2",
       "version_major": 2,
       "version_minor": 0
      },
      "text/plain": [
       "Query is running:   0%|          |"
      ]
     },
     "metadata": {},
     "output_type": "display_data"
    },
    {
     "data": {
      "text/html": [
       "<div>\n",
       "<style scoped>\n",
       "    .dataframe tbody tr th:only-of-type {\n",
       "        vertical-align: middle;\n",
       "    }\n",
       "\n",
       "    .dataframe tbody tr th {\n",
       "        vertical-align: top;\n",
       "    }\n",
       "\n",
       "    .dataframe thead th {\n",
       "        text-align: right;\n",
       "    }\n",
       "</style>\n",
       "<table border=\"1\" class=\"dataframe\">\n",
       "  <thead>\n",
       "    <tr style=\"text-align: right;\">\n",
       "      <th></th>\n",
       "    </tr>\n",
       "  </thead>\n",
       "  <tbody>\n",
       "  </tbody>\n",
       "</table>\n",
       "</div>"
      ],
      "text/plain": [
       "Empty DataFrame\n",
       "Columns: []\n",
       "Index: []"
      ]
     },
     "execution_count": 16,
     "metadata": {},
     "output_type": "execute_result"
    }
   ],
   "source": [
    "%%bigquery\n",
    "CREATE OR REPLACE TABLE `taxirides.taxi_training_data`\n",
    "AS(\n",
    "    SELECT\n",
    "        pickup_datetime,\n",
    "        pickup_latitude AS pickuplat,\n",
    "        pickup_longitude AS pickuplon,\n",
    "        dropoff_latitude AS dropofflat,\n",
    "        dropoff_longitude dropofflon,\n",
    "        CAST(passenger_count AS INT) AS passengers,\n",
    "        (tolls_amount + fare_amount) AS fare_amount_total\n",
    "    FROM `taxirides.historical_taxi_rides_raw`\n",
    "    WHERE \n",
    "        RAND() < 0.001 AND\n",
    "        (trip_distance > 0) AND\n",
    "        (fare_amount >= 2.5) AND\n",
    "        (passenger_count >= 1) AND (passenger_count < 7) AND\n",
    "        ((store_and_fwd_flag = 'Y') OR (store_and_fwd_flag = 'N')) AND\n",
    "        (pickup_latitude > 40) AND (pickup_latitude < 45) AND\n",
    "        (pickup_longitude > -79) AND (pickup_longitude < -71) AND\n",
    "        (dropoff_latitude > 40) AND (dropoff_latitude < 45) AND\n",
    "        (dropoff_longitude > -79) AND (dropoff_longitude < -71)\n",
    ")"
   ]
  },
  {
   "cell_type": "markdown",
   "metadata": {},
   "source": [
    "From now we use this new table as our training dataset."
   ]
  },
  {
   "cell_type": "markdown",
   "metadata": {},
   "source": [
    "### 5. Bivariate Analysis\n",
    "\n",
    "In order to formulate a model, the most important part of building accurate taxi fare prediction model is selecting the feature and target. To identify the feature and target, we have to understand the data first. Check whether the information of the features are correlated with the target.\n",
    "\n",
    "In this case, the target for our model is `fare_amount_total`\n",
    "\n",
    "Import our training data that has been cleaned before into pandas dataframe so that data can be analyzed."
   ]
  },
  {
   "cell_type": "code",
   "execution_count": 17,
   "metadata": {},
   "outputs": [
    {
     "data": {
      "application/vnd.jupyter.widget-view+json": {
       "model_id": "97325497941e449c8ad6d2f04737e85c",
       "version_major": 2,
       "version_minor": 0
      },
      "text/plain": [
       "Query is running:   0%|          |"
      ]
     },
     "metadata": {},
     "output_type": "display_data"
    },
    {
     "data": {
      "application/vnd.jupyter.widget-view+json": {
       "model_id": "7bcf42dbc5024d2b81bf88218224c0d9",
       "version_major": 2,
       "version_minor": 0
      },
      "text/plain": [
       "Downloading:   0%|          |"
      ]
     },
     "metadata": {},
     "output_type": "display_data"
    }
   ],
   "source": [
    "%%bigquery biv_an\n",
    "SELECT * FROM `taxirides.taxi_training_data`"
   ]
  },
  {
   "cell_type": "markdown",
   "metadata": {},
   "source": [
    "Then we check the statistical summary again."
   ]
  },
  {
   "cell_type": "code",
   "execution_count": 65,
   "metadata": {},
   "outputs": [
    {
     "data": {
      "text/html": [
       "<div>\n",
       "<style scoped>\n",
       "    .dataframe tbody tr th:only-of-type {\n",
       "        vertical-align: middle;\n",
       "    }\n",
       "\n",
       "    .dataframe tbody tr th {\n",
       "        vertical-align: top;\n",
       "    }\n",
       "\n",
       "    .dataframe thead th {\n",
       "        text-align: right;\n",
       "    }\n",
       "</style>\n",
       "<table border=\"1\" class=\"dataframe\">\n",
       "  <thead>\n",
       "    <tr style=\"text-align: right;\">\n",
       "      <th></th>\n",
       "      <th>pickuplat</th>\n",
       "      <th>pickuplon</th>\n",
       "      <th>dropofflat</th>\n",
       "      <th>dropofflon</th>\n",
       "      <th>passengers</th>\n",
       "      <th>fare_amount_total</th>\n",
       "    </tr>\n",
       "  </thead>\n",
       "  <tbody>\n",
       "    <tr>\n",
       "      <th>count</th>\n",
       "      <td>431968.000000</td>\n",
       "      <td>431968.000000</td>\n",
       "      <td>431968.000000</td>\n",
       "      <td>431968.000000</td>\n",
       "      <td>431968.0</td>\n",
       "      <td>431968.000000</td>\n",
       "    </tr>\n",
       "    <tr>\n",
       "      <th>mean</th>\n",
       "      <td>40.750920</td>\n",
       "      <td>-73.976397</td>\n",
       "      <td>40.751215</td>\n",
       "      <td>-73.974936</td>\n",
       "      <td>1.297541</td>\n",
       "      <td>11.188045</td>\n",
       "    </tr>\n",
       "    <tr>\n",
       "      <th>std</th>\n",
       "      <td>0.027879</td>\n",
       "      <td>0.033142</td>\n",
       "      <td>0.032044</td>\n",
       "      <td>0.035003</td>\n",
       "      <td>0.654475</td>\n",
       "      <td>9.224470</td>\n",
       "    </tr>\n",
       "    <tr>\n",
       "      <th>min</th>\n",
       "      <td>40.160546</td>\n",
       "      <td>-75.705417</td>\n",
       "      <td>40.157223</td>\n",
       "      <td>-77.742713</td>\n",
       "      <td>1.0</td>\n",
       "      <td>2.500000</td>\n",
       "    </tr>\n",
       "    <tr>\n",
       "      <th>25%</th>\n",
       "      <td>40.736562</td>\n",
       "      <td>-73.992471</td>\n",
       "      <td>40.735375</td>\n",
       "      <td>-73.991706</td>\n",
       "      <td>1.0</td>\n",
       "      <td>6.000000</td>\n",
       "    </tr>\n",
       "    <tr>\n",
       "      <th>50%</th>\n",
       "      <td>40.753072</td>\n",
       "      <td>-73.982253</td>\n",
       "      <td>40.753750</td>\n",
       "      <td>-73.980752</td>\n",
       "      <td>1.0</td>\n",
       "      <td>8.500000</td>\n",
       "    </tr>\n",
       "    <tr>\n",
       "      <th>75%</th>\n",
       "      <td>40.767208</td>\n",
       "      <td>-73.968794</td>\n",
       "      <td>40.768223</td>\n",
       "      <td>-73.965801</td>\n",
       "      <td>1.0</td>\n",
       "      <td>12.500000</td>\n",
       "    </tr>\n",
       "    <tr>\n",
       "      <th>max</th>\n",
       "      <td>44.871943</td>\n",
       "      <td>-72.091106</td>\n",
       "      <td>44.871943</td>\n",
       "      <td>-71.232033</td>\n",
       "      <td>6.0</td>\n",
       "      <td>300.000000</td>\n",
       "    </tr>\n",
       "  </tbody>\n",
       "</table>\n",
       "</div>"
      ],
      "text/plain": [
       "           pickuplat      pickuplon     dropofflat     dropofflon  passengers  \\\n",
       "count  431968.000000  431968.000000  431968.000000  431968.000000    431968.0   \n",
       "mean       40.750920     -73.976397      40.751215     -73.974936    1.297541   \n",
       "std         0.027879       0.033142       0.032044       0.035003    0.654475   \n",
       "min        40.160546     -75.705417      40.157223     -77.742713         1.0   \n",
       "25%        40.736562     -73.992471      40.735375     -73.991706         1.0   \n",
       "50%        40.753072     -73.982253      40.753750     -73.980752         1.0   \n",
       "75%        40.767208     -73.968794      40.768223     -73.965801         1.0   \n",
       "max        44.871943     -72.091106      44.871943     -71.232033         6.0   \n",
       "\n",
       "       fare_amount_total  \n",
       "count      431968.000000  \n",
       "mean           11.188045  \n",
       "std             9.224470  \n",
       "min             2.500000  \n",
       "25%             6.000000  \n",
       "50%             8.500000  \n",
       "75%            12.500000  \n",
       "max           300.000000  "
      ]
     },
     "execution_count": 65,
     "metadata": {},
     "output_type": "execute_result"
    }
   ],
   "source": [
    "biv_an.describe()"
   ]
  },
  {
   "cell_type": "markdown",
   "metadata": {},
   "source": [
    "Looks much better."
   ]
  },
  {
   "cell_type": "markdown",
   "metadata": {},
   "source": [
    "#### The Relationship of The Distance and Fare Amount\n",
    "\n",
    "We have coordinates value (longitude and langitude for pickup and dropoff) in our training dataset. We can use these coordinates to get distance value to used as a feature.\n",
    "\n",
    "Calculate the distance using Great Circle function (unit distance : Kilometer)"
   ]
  },
  {
   "cell_type": "code",
   "execution_count": 18,
   "metadata": {},
   "outputs": [],
   "source": [
    "biv_an['distance'] = biv_an.apply(lambda x: GRC((x['pickuplat'], x['pickuplon']),(x['dropofflat'], x['dropofflon'])).km,axis=1)"
   ]
  },
  {
   "cell_type": "markdown",
   "metadata": {},
   "source": [
    "After creating a distance variable let see what the distance look like."
   ]
  },
  {
   "cell_type": "code",
   "execution_count": 19,
   "metadata": {},
   "outputs": [
    {
     "data": {
      "text/plain": [
       "Text(0, 0.5, 'Frequency')"
      ]
     },
     "execution_count": 19,
     "metadata": {},
     "output_type": "execute_result"
    },
    {
     "data": {
      "image/png": "[encoded data removed]",
      "text/plain": [
       "<Figure size 800x400 with 1 Axes>"
      ]
     },
     "metadata": {},
     "output_type": "display_data"
    }
   ],
   "source": [
    "plt.figure(figsize = (8, 4))\n",
    "sns.histplot(biv_an['distance'], kde = True, bins = 200)\n",
    "plt.title('The Distribution of Passenger Count')\n",
    "plt.xlabel('distance')\n",
    "plt.ylabel('Frequency')"
   ]
  },
  {
   "cell_type": "markdown",
   "metadata": {},
   "source": [
    "Most of the taxi trip cover fairly short distances.\n",
    "\n",
    "Now we can check whether the total fare amount have a linear relationship with trip distance."
   ]
  },
  {
   "cell_type": "code",
   "execution_count": 20,
   "metadata": {},
   "outputs": [
    {
     "data": {
      "text/plain": [
       "<seaborn.axisgrid.FacetGrid at 0x2801c633110>"
      ]
     },
     "execution_count": 20,
     "metadata": {},
     "output_type": "execute_result"
    },
    {
     "data": {
      "image/png": "[encoded data removed]",
      "text/plain": [
       "<Figure size 500x500 with 1 Axes>"
      ]
     },
     "metadata": {},
     "output_type": "display_data"
    }
   ],
   "source": [
    "sns.relplot(x = \"distance\", y = \"fare_amount_total\", data = biv_an).set(title = 'The Average Fare Amount Per Day of The Week')"
   ]
  },
  {
   "cell_type": "markdown",
   "metadata": {},
   "source": [
    "We can see there can be a big difference in fare amount for short distance trip, which could happened because the trip use a highway so the fare amount will be expensive, since the `fare_amount_total` is not only for the base fare amount but also including tolls amount. There is a correlation between distance and total fare amount so we can use distance as our first feature."
   ]
  },
  {
   "cell_type": "markdown",
   "metadata": {},
   "source": [
    "#### The Relationship of Fare Amount per Day of The Week\n",
    "\n"
   ]
  },
  {
   "cell_type": "markdown",
   "metadata": {},
   "source": [
    "We need to extract the day (Monday to Sunday) from the `pickup_datetime` value."
   ]
  },
  {
   "cell_type": "code",
   "execution_count": 76,
   "metadata": {},
   "outputs": [],
   "source": [
    "biv_an['day'] = biv_an['pickup_datetime'].dt.day_name()"
   ]
  },
  {
   "cell_type": "markdown",
   "metadata": {},
   "source": [
    "Check the distribution of the pickup grouped by day."
   ]
  },
  {
   "cell_type": "code",
   "execution_count": 77,
   "metadata": {},
   "outputs": [
    {
     "data": {
      "text/plain": [
       "Text(0, 0.5, 'Frequency')"
      ]
     },
     "execution_count": 77,
     "metadata": {},
     "output_type": "execute_result"
    },
    {
     "data": {
      "image/png": "[encoded data removed]",
      "text/plain": [
       "<Figure size 800x400 with 1 Axes>"
      ]
     },
     "metadata": {},
     "output_type": "display_data"
    }
   ],
   "source": [
    "plt.figure(figsize = (8, 4))\n",
    "sns.countplot(x = biv_an['day'])\n",
    "plt.title('The Distribution of Pickup Day')\n",
    "plt.xlabel('pickup day')\n",
    "plt.ylabel('Frequency')"
   ]
  },
  {
   "cell_type": "markdown",
   "metadata": {},
   "source": [
    "Many people use taxi on Friday and Saturday.\n",
    "\n",
    "The correlation between pickup day and fare amount can be seen from the cart below."
   ]
  },
  {
   "cell_type": "code",
   "execution_count": 78,
   "metadata": {},
   "outputs": [
    {
     "data": {
      "text/plain": [
       "<seaborn.axisgrid.FacetGrid at 0x2801f7cd8d0>"
      ]
     },
     "execution_count": 78,
     "metadata": {},
     "output_type": "execute_result"
    },
    {
     "data": {
      "image/png": "[encoded data removed]",
      "text/plain": [
       "<Figure size 600x600 with 1 Axes>"
      ]
     },
     "metadata": {},
     "output_type": "display_data"
    }
   ],
   "source": [
    "sns.catplot(x=\"day\", y = \"fare_amount_total\", kind = \"bar\", data = biv_an, height = 6, aspect = 1).set(title = 'The Average Fare Amount Per Day of The Week')"
   ]
  },
  {
   "cell_type": "markdown",
   "metadata": {},
   "source": [
    "There is no much difference in the number of fare amount if grouped by the day. But Sunday has the highest average fare amount compared to other day, probably because it's weekend."
   ]
  },
  {
   "cell_type": "markdown",
   "metadata": {},
   "source": [
    "#### The Relationship of Fare Amount per Hour of The Day\n",
    "\n"
   ]
  },
  {
   "cell_type": "markdown",
   "metadata": {},
   "source": [
    "We need to extract the hour (0 to 23) from the `pickup_datetime` value."
   ]
  },
  {
   "cell_type": "code",
   "execution_count": 73,
   "metadata": {},
   "outputs": [],
   "source": [
    "biv_an['hour'] = biv_an['pickup_datetime'].dt.hour"
   ]
  },
  {
   "cell_type": "markdown",
   "metadata": {},
   "source": [
    "Check the distribution of the pickup grouped by hour."
   ]
  },
  {
   "cell_type": "code",
   "execution_count": 75,
   "metadata": {},
   "outputs": [
    {
     "data": {
      "text/plain": [
       "Text(0, 0.5, 'Frequency')"
      ]
     },
     "execution_count": 75,
     "metadata": {},
     "output_type": "execute_result"
    },
    {
     "data": {
      "image/png": "[encoded data removed]",
      "text/plain": [
       "<Figure size 800x400 with 1 Axes>"
      ]
     },
     "metadata": {},
     "output_type": "display_data"
    }
   ],
   "source": [
    "plt.figure(figsize = (8, 4))\n",
    "sns.countplot(x = biv_an['hour'])\n",
    "plt.title('The Distribution of Pickup Hour')\n",
    "plt.xlabel('pickup hour')\n",
    "plt.ylabel('Frequency')"
   ]
  },
  {
   "cell_type": "markdown",
   "metadata": {},
   "source": [
    "We see the busiest hours are 6pm to 8pm and that makes sense as this is the time when people return from their offices.\n",
    "\n",
    "Time to find the correlation between the pickup hour and fare amount."
   ]
  },
  {
   "cell_type": "code",
   "execution_count": 67,
   "metadata": {},
   "outputs": [
    {
     "data": {
      "text/plain": [
       "[Text(0.5, 1.0, 'The Average Fare Amount Per Hour of The Day')]"
      ]
     },
     "execution_count": 67,
     "metadata": {},
     "output_type": "execute_result"
    },
    {
     "data": {
      "image/png": "[encoded data removed]",
      "text/plain": [
       "<Figure size 640x480 with 1 Axes>"
      ]
     },
     "metadata": {},
     "output_type": "display_data"
    }
   ],
   "source": [
    "sns.lineplot(x=\"hour\", y = \"fare_amount_total\", data = biv_an).set(title = 'The Average Fare Amount Per Hour of The Day')"
   ]
  },
  {
   "cell_type": "markdown",
   "metadata": {},
   "source": [
    "The highest fare amount is in the morning. This can probably point to long distance trips where people start early for the day. \n",
    "\n",
    "Both pickup day and pickup hour are good features."
   ]
  },
  {
   "cell_type": "markdown",
   "metadata": {},
   "source": [
    "### 6. Create a Model\n",
    "\n",
    "We have the information for our model after the exploration (in Bivariate Analysis). We use `distance`, `dayofweek`, and `hourofday` as features. And the target for our model is `fare_amount_total`. \n",
    "\n",
    "Look to the data when select the feature and target with SQL query. Don't forget to change the distance unit into kilometer."
   ]
  },
  {
   "cell_type": "code",
   "execution_count": 23,
   "metadata": {},
   "outputs": [
    {
     "data": {
      "application/vnd.jupyter.widget-view+json": {
       "model_id": "9849a6d8fe5042a8a35b3b753835b73a",
       "version_major": 2,
       "version_minor": 0
      },
      "text/plain": [
       "Query is running:   0%|          |"
      ]
     },
     "metadata": {},
     "output_type": "display_data"
    },
    {
     "data": {
      "application/vnd.jupyter.widget-view+json": {
       "model_id": "4e28cc2d0619450c82bddf796e34848c",
       "version_major": 2,
       "version_minor": 0
      },
      "text/plain": [
       "Downloading:   0%|          |"
      ]
     },
     "metadata": {},
     "output_type": "display_data"
    },
    {
     "data": {
      "text/html": [
       "<div>\n",
       "<style scoped>\n",
       "    .dataframe tbody tr th:only-of-type {\n",
       "        vertical-align: middle;\n",
       "    }\n",
       "\n",
       "    .dataframe tbody tr th {\n",
       "        vertical-align: top;\n",
       "    }\n",
       "\n",
       "    .dataframe thead th {\n",
       "        text-align: right;\n",
       "    }\n",
       "</style>\n",
       "<table border=\"1\" class=\"dataframe\">\n",
       "  <thead>\n",
       "    <tr style=\"text-align: right;\">\n",
       "      <th></th>\n",
       "      <th>fare_amount_total</th>\n",
       "      <th>dayofweek</th>\n",
       "      <th>hourofday</th>\n",
       "      <th>distance</th>\n",
       "    </tr>\n",
       "  </thead>\n",
       "  <tbody>\n",
       "    <tr>\n",
       "      <th>0</th>\n",
       "      <td>2.5</td>\n",
       "      <td>7</td>\n",
       "      <td>0</td>\n",
       "      <td>0.002010</td>\n",
       "    </tr>\n",
       "    <tr>\n",
       "      <th>1</th>\n",
       "      <td>2.5</td>\n",
       "      <td>7</td>\n",
       "      <td>0</td>\n",
       "      <td>0.000000</td>\n",
       "    </tr>\n",
       "    <tr>\n",
       "      <th>2</th>\n",
       "      <td>2.5</td>\n",
       "      <td>1</td>\n",
       "      <td>0</td>\n",
       "      <td>0.000000</td>\n",
       "    </tr>\n",
       "    <tr>\n",
       "      <th>3</th>\n",
       "      <td>2.5</td>\n",
       "      <td>4</td>\n",
       "      <td>0</td>\n",
       "      <td>6.070278</td>\n",
       "    </tr>\n",
       "    <tr>\n",
       "      <th>4</th>\n",
       "      <td>2.5</td>\n",
       "      <td>7</td>\n",
       "      <td>0</td>\n",
       "      <td>0.000337</td>\n",
       "    </tr>\n",
       "    <tr>\n",
       "      <th>...</th>\n",
       "      <td>...</td>\n",
       "      <td>...</td>\n",
       "      <td>...</td>\n",
       "      <td>...</td>\n",
       "    </tr>\n",
       "    <tr>\n",
       "      <th>431963</th>\n",
       "      <td>11.3</td>\n",
       "      <td>2</td>\n",
       "      <td>23</td>\n",
       "      <td>4.324868</td>\n",
       "    </tr>\n",
       "    <tr>\n",
       "      <th>431964</th>\n",
       "      <td>5.7</td>\n",
       "      <td>5</td>\n",
       "      <td>23</td>\n",
       "      <td>0.755027</td>\n",
       "    </tr>\n",
       "    <tr>\n",
       "      <th>431965</th>\n",
       "      <td>5.7</td>\n",
       "      <td>4</td>\n",
       "      <td>23</td>\n",
       "      <td>2.310427</td>\n",
       "    </tr>\n",
       "    <tr>\n",
       "      <th>431966</th>\n",
       "      <td>14.9</td>\n",
       "      <td>7</td>\n",
       "      <td>23</td>\n",
       "      <td>4.758841</td>\n",
       "    </tr>\n",
       "    <tr>\n",
       "      <th>431967</th>\n",
       "      <td>8.5</td>\n",
       "      <td>7</td>\n",
       "      <td>23</td>\n",
       "      <td>1.760507</td>\n",
       "    </tr>\n",
       "  </tbody>\n",
       "</table>\n",
       "<p>431968 rows × 4 columns</p>\n",
       "</div>"
      ],
      "text/plain": [
       "        fare_amount_total  dayofweek  hourofday  distance\n",
       "0                     2.5          7          0  0.002010\n",
       "1                     2.5          7          0  0.000000\n",
       "2                     2.5          1          0  0.000000\n",
       "3                     2.5          4          0  6.070278\n",
       "4                     2.5          7          0  0.000337\n",
       "...                   ...        ...        ...       ...\n",
       "431963               11.3          2         23  4.324868\n",
       "431964                5.7          5         23  0.755027\n",
       "431965                5.7          4         23  2.310427\n",
       "431966               14.9          7         23  4.758841\n",
       "431967                8.5          7         23  1.760507\n",
       "\n",
       "[431968 rows x 4 columns]"
      ]
     },
     "execution_count": 23,
     "metadata": {},
     "output_type": "execute_result"
    }
   ],
   "source": [
    "%%bigquery\n",
    "  SELECT\n",
    "    fare_amount_total,\n",
    "    EXTRACT(dayofweek FROM pickup_datetime) AS dayofweek,\n",
    "    EXTRACT(hour FROM pickup_datetime) AS hourofday,\n",
    "    ST_DISTANCE(\n",
    "      ST_GEOGPOINT(pickuplon, pickuplat),\n",
    "      ST_GEOGPOINT(dropofflon, dropofflat)) / 1000 AS distance\n",
    "  FROM `taxirides.taxi_training_data`"
   ]
  },
  {
   "cell_type": "markdown",
   "metadata": {},
   "source": [
    "We can confirm our training dataset consist of 431968 trips.\n",
    "\n",
    "The next step is to create and train our model. In order to build machine learning model, we have to choose the model type. There are many model type used in machine learning. Since we are predicting a fare trip for the users when they order a taxi, we use linear regression in a forecasting model. The model requires RMSE of 10 or less to get a good results.\n",
    "\n",
    "Try to create a model using BigQuery ML and save the model as `fare_model`."
   ]
  },
  {
   "cell_type": "code",
   "execution_count": 24,
   "metadata": {},
   "outputs": [
    {
     "data": {
      "application/vnd.jupyter.widget-view+json": {
       "model_id": "f20599a9b521460fa6b5bb34c082fb98",
       "version_major": 2,
       "version_minor": 0
      },
      "text/plain": [
       "Query is running:   0%|          |"
      ]
     },
     "metadata": {},
     "output_type": "display_data"
    },
    {
     "data": {
      "text/html": [
       "<div>\n",
       "<style scoped>\n",
       "    .dataframe tbody tr th:only-of-type {\n",
       "        vertical-align: middle;\n",
       "    }\n",
       "\n",
       "    .dataframe tbody tr th {\n",
       "        vertical-align: top;\n",
       "    }\n",
       "\n",
       "    .dataframe thead th {\n",
       "        text-align: right;\n",
       "    }\n",
       "</style>\n",
       "<table border=\"1\" class=\"dataframe\">\n",
       "  <thead>\n",
       "    <tr style=\"text-align: right;\">\n",
       "      <th></th>\n",
       "    </tr>\n",
       "  </thead>\n",
       "  <tbody>\n",
       "  </tbody>\n",
       "</table>\n",
       "</div>"
      ],
      "text/plain": [
       "Empty DataFrame\n",
       "Columns: []\n",
       "Index: []"
      ]
     },
     "execution_count": 24,
     "metadata": {},
     "output_type": "execute_result"
    }
   ],
   "source": [
    "%%bigquery\n",
    "CREATE OR REPLACE MODEL `taxirides.fare_model`\n",
    "OPTIONS(\n",
    "  input_label_cols = ['fare_amount_total'],\n",
    "  model_type = 'linear_reg'\n",
    ")\n",
    "AS\n",
    "  SELECT\n",
    "    fare_amount_total,\n",
    "    CAST(EXTRACT(dayofweek FROM pickup_datetime) AS STRING) AS dayofweek,\n",
    "    CAST(EXTRACT(hour FROM pickup_datetime) AS STRING) AS hourofday,\n",
    "    ST_DISTANCE(\n",
    "      ST_GEOGPOINT(pickuplon, pickuplat),\n",
    "      ST_GEOGPOINT(dropofflon, dropofflat)) / 1000 AS distance\n",
    "  FROM `taxirides.taxi_training_data`"
   ]
  },
  {
   "cell_type": "markdown",
   "metadata": {},
   "source": [
    "We can check the metric related to the model training after the model has been created."
   ]
  },
  {
   "cell_type": "code",
   "execution_count": 25,
   "metadata": {},
   "outputs": [
    {
     "data": {
      "application/vnd.jupyter.widget-view+json": {
       "model_id": "10e60c2e13f849e78688df30549ff1d0",
       "version_major": 2,
       "version_minor": 0
      },
      "text/plain": [
       "Query is running:   0%|          |"
      ]
     },
     "metadata": {},
     "output_type": "display_data"
    },
    {
     "data": {
      "application/vnd.jupyter.widget-view+json": {
       "model_id": "6a454d85ada7496e995b8ee7d5335c19",
       "version_major": 2,
       "version_minor": 0
      },
      "text/plain": [
       "Downloading:   0%|          |"
      ]
     },
     "metadata": {},
     "output_type": "display_data"
    },
    {
     "data": {
      "text/html": [
       "<div>\n",
       "<style scoped>\n",
       "    .dataframe tbody tr th:only-of-type {\n",
       "        vertical-align: middle;\n",
       "    }\n",
       "\n",
       "    .dataframe tbody tr th {\n",
       "        vertical-align: top;\n",
       "    }\n",
       "\n",
       "    .dataframe thead th {\n",
       "        text-align: right;\n",
       "    }\n",
       "</style>\n",
       "<table border=\"1\" class=\"dataframe\">\n",
       "  <thead>\n",
       "    <tr style=\"text-align: right;\">\n",
       "      <th></th>\n",
       "      <th>mean_absolute_error</th>\n",
       "      <th>mean_squared_error</th>\n",
       "      <th>mean_squared_log_error</th>\n",
       "      <th>median_absolute_error</th>\n",
       "      <th>r2_score</th>\n",
       "      <th>explained_variance</th>\n",
       "    </tr>\n",
       "  </thead>\n",
       "  <tbody>\n",
       "    <tr>\n",
       "      <th>0</th>\n",
       "      <td>2.265468</td>\n",
       "      <td>16.446411</td>\n",
       "      <td>0.063873</td>\n",
       "      <td>1.522883</td>\n",
       "      <td>0.80557</td>\n",
       "      <td>0.80557</td>\n",
       "    </tr>\n",
       "  </tbody>\n",
       "</table>\n",
       "</div>"
      ],
      "text/plain": [
       "   mean_absolute_error  mean_squared_error  mean_squared_log_error  \\\n",
       "0             2.265468           16.446411                0.063873   \n",
       "\n",
       "   median_absolute_error  r2_score  explained_variance  \n",
       "0               1.522883   0.80557             0.80557  "
      ]
     },
     "execution_count": 25,
     "metadata": {},
     "output_type": "execute_result"
    }
   ],
   "source": [
    "%%bigquery\n",
    "SELECT * FROM ML.EVALUATE(MODEL `taxirides.fare_model`)"
   ]
  },
  {
   "cell_type": "markdown",
   "metadata": {},
   "source": [
    "The MAE(Mean Absolute Error) of the model is 2.265. This means that we should expect to be able to predict the fare amount with an average error of about $2.2. While the RMSE value is 4.05.\n",
    "\n",
    "We can encapsulate any additional data transformations in a TRANSFORM() clause. Only features in the TRANSFORM() clause will be passed to the model. We can use a * EXCEPT(feature_to_leave_out) to pass some or all of the features without explicitly calling them. Call the model `fare_model_update`."
   ]
  },
  {
   "cell_type": "code",
   "execution_count": 53,
   "metadata": {},
   "outputs": [
    {
     "data": {
      "application/vnd.jupyter.widget-view+json": {
       "model_id": "caf7a51077844858a04e6acfbcc432d7",
       "version_major": 2,
       "version_minor": 0
      },
      "text/plain": [
       "Query is running:   0%|          |"
      ]
     },
     "metadata": {},
     "output_type": "display_data"
    },
    {
     "data": {
      "text/html": [
       "<div>\n",
       "<style scoped>\n",
       "    .dataframe tbody tr th:only-of-type {\n",
       "        vertical-align: middle;\n",
       "    }\n",
       "\n",
       "    .dataframe tbody tr th {\n",
       "        vertical-align: top;\n",
       "    }\n",
       "\n",
       "    .dataframe thead th {\n",
       "        text-align: right;\n",
       "    }\n",
       "</style>\n",
       "<table border=\"1\" class=\"dataframe\">\n",
       "  <thead>\n",
       "    <tr style=\"text-align: right;\">\n",
       "      <th></th>\n",
       "    </tr>\n",
       "  </thead>\n",
       "  <tbody>\n",
       "  </tbody>\n",
       "</table>\n",
       "</div>"
      ],
      "text/plain": [
       "Empty DataFrame\n",
       "Columns: []\n",
       "Index: []"
      ]
     },
     "execution_count": 53,
     "metadata": {},
     "output_type": "execute_result"
    }
   ],
   "source": [
    "%%bigquery\n",
    "CREATE OR REPLACE MODEL `taxirides.fare_model_update`\n",
    "TRANSFORM( *\n",
    "  EXCEPT(pickup_datetime),\n",
    "  CAST(EXTRACT(dayofweek FROM pickup_datetime) AS STRING) AS dayofweek,\n",
    "  CAST(EXTRACT(hour FROM pickup_datetime) AS STRING) AS hourofday,\n",
    "  ST_DISTANCE(\n",
    "      ST_GEOGPOINT(pickuplon, pickuplat),\n",
    "      ST_GEOGPOINT(dropofflon, dropofflat)) / 1000 AS distance )\n",
    "OPTIONS(\n",
    "  input_label_cols = ['fare_amount_total'],\n",
    "  model_type = 'linear_reg'\n",
    ")\n",
    "AS\n",
    "  SELECT * FROM `taxirides.taxi_training_data`"
   ]
  },
  {
   "cell_type": "markdown",
   "metadata": {},
   "source": [
    "Evaluate the performance of the second model."
   ]
  },
  {
   "cell_type": "code",
   "execution_count": 54,
   "metadata": {},
   "outputs": [
    {
     "data": {
      "application/vnd.jupyter.widget-view+json": {
       "model_id": "1871888b0a724840b6fe43ab2261e83b",
       "version_major": 2,
       "version_minor": 0
      },
      "text/plain": [
       "Query is running:   0%|          |"
      ]
     },
     "metadata": {},
     "output_type": "display_data"
    },
    {
     "data": {
      "application/vnd.jupyter.widget-view+json": {
       "model_id": "8ccb05d574ef4cd38eaea8a4666863e6",
       "version_major": 2,
       "version_minor": 0
      },
      "text/plain": [
       "Downloading:   0%|          |"
      ]
     },
     "metadata": {},
     "output_type": "display_data"
    },
    {
     "data": {
      "text/html": [
       "<div>\n",
       "<style scoped>\n",
       "    .dataframe tbody tr th:only-of-type {\n",
       "        vertical-align: middle;\n",
       "    }\n",
       "\n",
       "    .dataframe tbody tr th {\n",
       "        vertical-align: top;\n",
       "    }\n",
       "\n",
       "    .dataframe thead th {\n",
       "        text-align: right;\n",
       "    }\n",
       "</style>\n",
       "<table border=\"1\" class=\"dataframe\">\n",
       "  <thead>\n",
       "    <tr style=\"text-align: right;\">\n",
       "      <th></th>\n",
       "      <th>mean_absolute_error</th>\n",
       "      <th>mean_squared_error</th>\n",
       "      <th>mean_squared_log_error</th>\n",
       "      <th>median_absolute_error</th>\n",
       "      <th>r2_score</th>\n",
       "      <th>explained_variance</th>\n",
       "    </tr>\n",
       "  </thead>\n",
       "  <tbody>\n",
       "    <tr>\n",
       "      <th>0</th>\n",
       "      <td>2.260782</td>\n",
       "      <td>18.898246</td>\n",
       "      <td>0.066003</td>\n",
       "      <td>1.479913</td>\n",
       "      <td>0.773496</td>\n",
       "      <td>0.773534</td>\n",
       "    </tr>\n",
       "  </tbody>\n",
       "</table>\n",
       "</div>"
      ],
      "text/plain": [
       "   mean_absolute_error  mean_squared_error  mean_squared_log_error  \\\n",
       "0             2.260782           18.898246                0.066003   \n",
       "\n",
       "   median_absolute_error  r2_score  explained_variance  \n",
       "0               1.479913  0.773496            0.773534  "
      ]
     },
     "execution_count": 54,
     "metadata": {},
     "output_type": "execute_result"
    }
   ],
   "source": [
    "%%bigquery\n",
    "SELECT * FROM ML.EVALUATE(MODEL `taxirides.fare_model_update`)"
   ]
  },
  {
   "cell_type": "markdown",
   "metadata": {},
   "source": [
    "With the second model, the MAE reduce to become 2.260 and the RMSE is still under 10. Better than before."
   ]
  },
  {
   "cell_type": "markdown",
   "metadata": {},
   "source": [
    "### 7. Make a Prediction\n",
    "\n",
    "Try to predict the fare trip using our trained model."
   ]
  },
  {
   "cell_type": "code",
   "execution_count": 55,
   "metadata": {},
   "outputs": [
    {
     "data": {
      "application/vnd.jupyter.widget-view+json": {
       "model_id": "2d5b366b89724b39aeb05080c32c4ece",
       "version_major": 2,
       "version_minor": 0
      },
      "text/plain": [
       "Query is running:   0%|          |"
      ]
     },
     "metadata": {},
     "output_type": "display_data"
    },
    {
     "data": {
      "application/vnd.jupyter.widget-view+json": {
       "model_id": "396b563e3d064ec6954573b2416d8e06",
       "version_major": 2,
       "version_minor": 0
      },
      "text/plain": [
       "Downloading:   0%|          |"
      ]
     },
     "metadata": {},
     "output_type": "display_data"
    },
    {
     "data": {
      "text/html": [
       "<div>\n",
       "<style scoped>\n",
       "    .dataframe tbody tr th:only-of-type {\n",
       "        vertical-align: middle;\n",
       "    }\n",
       "\n",
       "    .dataframe tbody tr th {\n",
       "        vertical-align: top;\n",
       "    }\n",
       "\n",
       "    .dataframe thead th {\n",
       "        text-align: right;\n",
       "    }\n",
       "</style>\n",
       "<table border=\"1\" class=\"dataframe\">\n",
       "  <thead>\n",
       "    <tr style=\"text-align: right;\">\n",
       "      <th></th>\n",
       "      <th>predicted_fare_amount_total</th>\n",
       "      <th>pickuplat</th>\n",
       "      <th>pickuplon</th>\n",
       "      <th>dropofflat</th>\n",
       "      <th>dropofflon</th>\n",
       "      <th>pickup_datetime</th>\n",
       "      <th>passengers</th>\n",
       "    </tr>\n",
       "  </thead>\n",
       "  <tbody>\n",
       "    <tr>\n",
       "      <th>0</th>\n",
       "      <td>50.237958</td>\n",
       "      <td>40.767711</td>\n",
       "      <td>-73.970529</td>\n",
       "      <td>40.674947</td>\n",
       "      <td>-73.758137</td>\n",
       "      <td>2023-09-22 11:21:14.685525+00:00</td>\n",
       "      <td>1</td>\n",
       "    </tr>\n",
       "  </tbody>\n",
       "</table>\n",
       "</div>"
      ],
      "text/plain": [
       "   predicted_fare_amount_total  pickuplat  pickuplon  dropofflat  dropofflon  \\\n",
       "0                    50.237958  40.767711 -73.970529   40.674947  -73.758137   \n",
       "\n",
       "                   pickup_datetime  passengers  \n",
       "0 2023-09-22 11:21:14.685525+00:00           1  "
      ]
     },
     "execution_count": 55,
     "metadata": {},
     "output_type": "execute_result"
    }
   ],
   "source": [
    "%%bigquery\n",
    "SELECT *\n",
    "FROM ML.PREDICT(MODEL `taxirides.fare_model_update`,\n",
    "    (SELECT \n",
    "        40.767711 AS pickuplat,\n",
    "        -73.970529 AS pickuplon,\n",
    "        40.674947 AS dropofflat,\n",
    "        -73.758137 AS dropofflon,\n",
    "        CURRENT_TIMESTAMP() AS pickup_datetime,\n",
    "        1 AS passengers\n",
    "    )\n",
    ")"
   ]
  },
  {
   "cell_type": "markdown",
   "metadata": {},
   "source": [
    "If we want to go to Belknap St. from Central Park Zoo by taxi we will be charged approximately $50.\n",
    "\n",
    "Now we can predict the data that provided by the client. They really curious to see how well the model perform over on taxi trip data, in this case, all of the data on `client_prediction_data` table. This query below is to carry out prediction for all the taxi trips on New York and save it to `taxi_fare_prediction` table."
   ]
  },
  {
   "cell_type": "code",
   "execution_count": 56,
   "metadata": {},
   "outputs": [
    {
     "data": {
      "application/vnd.jupyter.widget-view+json": {
       "model_id": "b78d034d0a734731a16e37c07f2bf3de",
       "version_major": 2,
       "version_minor": 0
      },
      "text/plain": [
       "Query is running:   0%|          |"
      ]
     },
     "metadata": {},
     "output_type": "display_data"
    },
    {
     "data": {
      "text/html": [
       "<div>\n",
       "<style scoped>\n",
       "    .dataframe tbody tr th:only-of-type {\n",
       "        vertical-align: middle;\n",
       "    }\n",
       "\n",
       "    .dataframe tbody tr th {\n",
       "        vertical-align: top;\n",
       "    }\n",
       "\n",
       "    .dataframe thead th {\n",
       "        text-align: right;\n",
       "    }\n",
       "</style>\n",
       "<table border=\"1\" class=\"dataframe\">\n",
       "  <thead>\n",
       "    <tr style=\"text-align: right;\">\n",
       "      <th></th>\n",
       "    </tr>\n",
       "  </thead>\n",
       "  <tbody>\n",
       "  </tbody>\n",
       "</table>\n",
       "</div>"
      ],
      "text/plain": [
       "Empty DataFrame\n",
       "Columns: []\n",
       "Index: []"
      ]
     },
     "execution_count": 56,
     "metadata": {},
     "output_type": "execute_result"
    }
   ],
   "source": [
    "%%bigquery\n",
    "CREATE OR REPLACE TABLE `taxirides.taxi_fare_prediction`\n",
    "AS\n",
    "    SELECT *\n",
    "    FROM ML.PREDICT(MODEL `taxirides.fare_model_update`,\n",
    "    (SELECT * FROM `taxirides.client_prediction_data`))"
   ]
  },
  {
   "cell_type": "code",
   "execution_count": 57,
   "metadata": {},
   "outputs": [
    {
     "data": {
      "application/vnd.jupyter.widget-view+json": {
       "model_id": "5c77c393521646a1b7780f0f0b546c60",
       "version_major": 2,
       "version_minor": 0
      },
      "text/plain": [
       "Query is running:   0%|          |"
      ]
     },
     "metadata": {},
     "output_type": "display_data"
    },
    {
     "data": {
      "application/vnd.jupyter.widget-view+json": {
       "model_id": "e537bb71d81e4fd1abdfdcaf07535f4f",
       "version_major": 2,
       "version_minor": 0
      },
      "text/plain": [
       "Downloading:   0%|          |"
      ]
     },
     "metadata": {},
     "output_type": "display_data"
    },
    {
     "data": {
      "text/html": [
       "<div>\n",
       "<style scoped>\n",
       "    .dataframe tbody tr th:only-of-type {\n",
       "        vertical-align: middle;\n",
       "    }\n",
       "\n",
       "    .dataframe tbody tr th {\n",
       "        vertical-align: top;\n",
       "    }\n",
       "\n",
       "    .dataframe thead th {\n",
       "        text-align: right;\n",
       "    }\n",
       "</style>\n",
       "<table border=\"1\" class=\"dataframe\">\n",
       "  <thead>\n",
       "    <tr style=\"text-align: right;\">\n",
       "      <th></th>\n",
       "      <th>predicted_fare_amount_total</th>\n",
       "      <th>pickup_datetime</th>\n",
       "      <th>pickuplon</th>\n",
       "      <th>pickuplat</th>\n",
       "      <th>dropofflon</th>\n",
       "      <th>dropofflat</th>\n",
       "      <th>passengers</th>\n",
       "    </tr>\n",
       "  </thead>\n",
       "  <tbody>\n",
       "    <tr>\n",
       "      <th>0</th>\n",
       "      <td>22.287105</td>\n",
       "      <td>2015-03-23 22:00:05+00:00</td>\n",
       "      <td>-73.875000</td>\n",
       "      <td>40.773876</td>\n",
       "      <td>-73.975075</td>\n",
       "      <td>40.790314</td>\n",
       "      <td>1</td>\n",
       "    </tr>\n",
       "    <tr>\n",
       "      <th>1</th>\n",
       "      <td>8.402307</td>\n",
       "      <td>2015-04-12 01:38:48+00:00</td>\n",
       "      <td>-73.937500</td>\n",
       "      <td>40.714569</td>\n",
       "      <td>-73.951530</td>\n",
       "      <td>40.725540</td>\n",
       "      <td>1</td>\n",
       "    </tr>\n",
       "    <tr>\n",
       "      <th>2</th>\n",
       "      <td>8.186956</td>\n",
       "      <td>2015-02-19 15:38:55+00:00</td>\n",
       "      <td>-73.953125</td>\n",
       "      <td>40.807522</td>\n",
       "      <td>-73.966629</td>\n",
       "      <td>40.794235</td>\n",
       "      <td>1</td>\n",
       "    </tr>\n",
       "    <tr>\n",
       "      <th>3</th>\n",
       "      <td>5.787226</td>\n",
       "      <td>2015-02-20 11:54:03+00:00</td>\n",
       "      <td>-73.953125</td>\n",
       "      <td>40.788380</td>\n",
       "      <td>-73.949760</td>\n",
       "      <td>40.793221</td>\n",
       "      <td>1</td>\n",
       "    </tr>\n",
       "    <tr>\n",
       "      <th>4</th>\n",
       "      <td>7.905852</td>\n",
       "      <td>2015-04-24 21:14:24+00:00</td>\n",
       "      <td>-73.968750</td>\n",
       "      <td>40.799080</td>\n",
       "      <td>-73.976089</td>\n",
       "      <td>40.778999</td>\n",
       "      <td>1</td>\n",
       "    </tr>\n",
       "    <tr>\n",
       "      <th>...</th>\n",
       "      <td>...</td>\n",
       "      <td>...</td>\n",
       "      <td>...</td>\n",
       "      <td>...</td>\n",
       "      <td>...</td>\n",
       "      <td>...</td>\n",
       "      <td>...</td>\n",
       "    </tr>\n",
       "    <tr>\n",
       "      <th>74357</th>\n",
       "      <td>14.179108</td>\n",
       "      <td>2015-06-27 18:13:46+00:00</td>\n",
       "      <td>-73.968498</td>\n",
       "      <td>40.767597</td>\n",
       "      <td>-73.952866</td>\n",
       "      <td>40.807503</td>\n",
       "      <td>6</td>\n",
       "    </tr>\n",
       "    <tr>\n",
       "      <th>74358</th>\n",
       "      <td>9.322717</td>\n",
       "      <td>2015-02-24 00:59:32+00:00</td>\n",
       "      <td>-73.999748</td>\n",
       "      <td>40.725304</td>\n",
       "      <td>-73.991997</td>\n",
       "      <td>40.744026</td>\n",
       "      <td>6</td>\n",
       "    </tr>\n",
       "    <tr>\n",
       "      <th>74359</th>\n",
       "      <td>17.177105</td>\n",
       "      <td>2015-05-26 01:25:53+00:00</td>\n",
       "      <td>-73.999870</td>\n",
       "      <td>40.718102</td>\n",
       "      <td>-73.961662</td>\n",
       "      <td>40.766911</td>\n",
       "      <td>6</td>\n",
       "    </tr>\n",
       "    <tr>\n",
       "      <th>74360</th>\n",
       "      <td>7.324969</td>\n",
       "      <td>2015-05-12 07:22:23+00:00</td>\n",
       "      <td>-73.984306</td>\n",
       "      <td>40.756447</td>\n",
       "      <td>-73.975166</td>\n",
       "      <td>40.749634</td>\n",
       "      <td>6</td>\n",
       "    </tr>\n",
       "    <tr>\n",
       "      <th>74361</th>\n",
       "      <td>9.611865</td>\n",
       "      <td>2015-06-05 22:45:07+00:00</td>\n",
       "      <td>-73.984306</td>\n",
       "      <td>40.728840</td>\n",
       "      <td>-73.994827</td>\n",
       "      <td>40.745350</td>\n",
       "      <td>6</td>\n",
       "    </tr>\n",
       "  </tbody>\n",
       "</table>\n",
       "<p>74362 rows × 7 columns</p>\n",
       "</div>"
      ],
      "text/plain": [
       "       predicted_fare_amount_total           pickup_datetime  pickuplon  \\\n",
       "0                        22.287105 2015-03-23 22:00:05+00:00 -73.875000   \n",
       "1                         8.402307 2015-04-12 01:38:48+00:00 -73.937500   \n",
       "2                         8.186956 2015-02-19 15:38:55+00:00 -73.953125   \n",
       "3                         5.787226 2015-02-20 11:54:03+00:00 -73.953125   \n",
       "4                         7.905852 2015-04-24 21:14:24+00:00 -73.968750   \n",
       "...                            ...                       ...        ...   \n",
       "74357                    14.179108 2015-06-27 18:13:46+00:00 -73.968498   \n",
       "74358                     9.322717 2015-02-24 00:59:32+00:00 -73.999748   \n",
       "74359                    17.177105 2015-05-26 01:25:53+00:00 -73.999870   \n",
       "74360                     7.324969 2015-05-12 07:22:23+00:00 -73.984306   \n",
       "74361                     9.611865 2015-06-05 22:45:07+00:00 -73.984306   \n",
       "\n",
       "       pickuplat  dropofflon  dropofflat  passengers  \n",
       "0      40.773876  -73.975075   40.790314           1  \n",
       "1      40.714569  -73.951530   40.725540           1  \n",
       "2      40.807522  -73.966629   40.794235           1  \n",
       "3      40.788380  -73.949760   40.793221           1  \n",
       "4      40.799080  -73.976089   40.778999           1  \n",
       "...          ...         ...         ...         ...  \n",
       "74357  40.767597  -73.952866   40.807503           6  \n",
       "74358  40.725304  -73.991997   40.744026           6  \n",
       "74359  40.718102  -73.961662   40.766911           6  \n",
       "74360  40.756447  -73.975166   40.749634           6  \n",
       "74361  40.728840  -73.994827   40.745350           6  \n",
       "\n",
       "[74362 rows x 7 columns]"
      ]
     },
     "execution_count": 57,
     "metadata": {},
     "output_type": "execute_result"
    }
   ],
   "source": [
    "%%bigquery\n",
    "SELECT * \n",
    "FROM `taxirides.taxi_fare_prediction`"
   ]
  },
  {
   "cell_type": "markdown",
   "metadata": {},
   "source": [
    "The output will add 1 new field (`predicted_fare_amount_total`) which is the prediction for the taxi trip."
   ]
  }
 ],
 "metadata": {
  "kernelspec": {
   "display_name": "Python 3",
   "language": "python",
   "name": "python3"
  },
  "language_info": {
   "codemirror_mode": {
    "name": "ipython",
    "version": 3
   },
   "file_extension": ".py",
   "mimetype": "text/x-python",
   "name": "python",
   "nbconvert_exporter": "python",
   "pygments_lexer": "ipython3",
   "version": "3.11.4"
  },
  "orig_nbformat": 4
 },
 "nbformat": 4,
 "nbformat_minor": 2
}
